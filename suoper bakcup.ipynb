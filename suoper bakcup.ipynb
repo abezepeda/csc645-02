{
  "nbformat": 4,
  "nbformat_minor": 0,
  "metadata": {
    "colab": {
      "name": "REVISED BACKUOP!.ipynb",
      "provenance": [],
      "collapsed_sections": [],
      "toc_visible": true,
      "include_colab_link": true
    },
    "kernelspec": {
      "display_name": "Python 3",
      "name": "python3"
    },
    "accelerator": "GPU"
  },
  "cells": [
    {
      "cell_type": "markdown",
      "metadata": {
        "id": "view-in-github",
        "colab_type": "text"
      },
      "source": [
        "<a href=\"https://colab.research.google.com/github/abezepeda/csc645-02/blob/master/suoper%20bakcup.ipynb\" target=\"_parent\"><img src=\"https://colab.research.google.com/assets/colab-badge.svg\" alt=\"Open In Colab\"/></a>"
      ]
    },
    {
      "cell_type": "markdown",
      "metadata": {
        "id": "FhGuhbZ6M5tl"
      },
      "source": [
        "##### Copyright 2018 The TensorFlow Authors."
      ]
    },
    {
      "cell_type": "code",
      "metadata": {
        "cellView": "form",
        "id": "AwOEIRJC6Une"
      },
      "source": [
        "#@title Licensed under the Apache License, Version 2.0 (the \"License\");\n",
        "# you may not use this file except in compliance with the License.\n",
        "# You may obtain a copy of the License at\n",
        "#\n",
        "# https://www.apache.org/licenses/LICENSE-2.0\n",
        "#\n",
        "# Unless required by applicable law or agreed to in writing, software\n",
        "# distributed under the License is distributed on an \"AS IS\" BASIS,\n",
        "# WITHOUT WARRANTIES OR CONDITIONS OF ANY KIND, either express or implied.\n",
        "# See the License for the specific language governing permissions and\n",
        "# limitations under the License."
      ],
      "execution_count": null,
      "outputs": []
    },
    {
      "cell_type": "markdown",
      "metadata": {
        "id": "j9r1o7HsyNTf"
      },
      "source": [
        ""
      ]
    },
    {
      "cell_type": "code",
      "metadata": {
        "cellView": "form",
        "id": "KyPEtTqk6VdG"
      },
      "source": [
        "#@title MIT License\n",
        "#\n",
        "# Copyright (c) 2017 François Chollet\n",
        "#\n",
        "# Permission is hereby granted, free of charge, to any person obtaining a\n",
        "# copy of this software and associated documentation files (the \"Software\"),\n",
        "# to deal in the Software without restriction, including without limitation\n",
        "# the rights to use, copy, modify, merge, publish, distribute, sublicense,\n",
        "# and/or sell copies of the Software, and to permit persons to whom the\n",
        "# Software is furnished to do so, subject to the following conditions:\n",
        "#\n",
        "# The above copyright notice and this permission notice shall be included in\n",
        "# all copies or substantial portions of the Software.\n",
        "#\n",
        "# THE SOFTWARE IS PROVIDED \"AS IS\", WITHOUT WARRANTY OF ANY KIND, EXPRESS OR\n",
        "# IMPLIED, INCLUDING BUT NOT LIMITED TO THE WARRANTIES OF MERCHANTABILITY,\n",
        "# FITNESS FOR A PARTICULAR PURPOSE AND NONINFRINGEMENT. IN NO EVENT SHALL\n",
        "# THE AUTHORS OR COPYRIGHT HOLDERS BE LIABLE FOR ANY CLAIM, DAMAGES OR OTHER\n",
        "# LIABILITY, WHETHER IN AN ACTION OF CONTRACT, TORT OR OTHERWISE, ARISING\n",
        "# FROM, OUT OF OR IN CONNECTION WITH THE SOFTWARE OR THE USE OR OTHER\n",
        "# DEALINGS IN THE SOFTWARE."
      ],
      "execution_count": null,
      "outputs": []
    },
    {
      "cell_type": "markdown",
      "metadata": {
        "id": "EIdT9iu_Z4Rb"
      },
      "source": [
        "# Proj1A - Basic Regression: Understanding the ADNI Data Using Regression\n",
        "\n",
        "> Indented block\n",
        "\n",
        "\n",
        "\n",
        "\n",
        "\n",
        "\n"
      ]
    },
    {
      "cell_type": "markdown",
      "metadata": {
        "id": "bBIlTPscrIT9"
      },
      "source": [
        "<table class=\"tfo-notebook-buttons\" align=\"left\">\n",
        "  <td>\n",
        "    <a target=\"_blank\" href=\"https://www.tensorflow.org/tutorials/keras/regression\"><img src=\"https://www.tensorflow.org/images/tf_logo_32px.png\" />View on TensorFlow.org</a>\n",
        "  </td>\n",
        "  <td>\n",
        "    <a target=\"_blank\" href=\"https://colab.research.google.com/github/tensorflow/docs/blob/master/site/en/tutorials/keras/regression.ipynb\"><img src=\"https://www.tensorflow.org/images/colab_logo_32px.png\" />Run in Google Colab</a>\n",
        "  </td>\n",
        "  <td>\n",
        "    <a target=\"_blank\" href=\"https://github.com/tensorflow/docs/blob/master/site/en/tutorials/keras/regression.ipynb\"><img src=\"https://www.tensorflow.org/images/GitHub-Mark-32px.png\" />View source on GitHub</a>\n",
        "  </td>\n",
        "  <td>\n",
        "    <a href=\"https://storage.googleapis.com/tensorflow_docs/docs/site/en/tutorials/keras/regression.ipynb\"><img src=\"https://www.tensorflow.org/images/download_logo_32px.png\" />Download notebook</a>\n",
        "  </td>\n",
        "</table>"
      ]
    },
    {
      "cell_type": "markdown",
      "metadata": {
        "id": "AHp3M9ZmrIxj"
      },
      "source": [
        "## Instructions\n",
        "\n",
        "Please make a copy and rename it with your name (ex: Proj1A_Ilmi_Yoon). All grading points should be explored in the notebook but some can be done in a separate pdf file. \n",
        "\n",
        "*Graded questions will be listed with \"Q:\" followed by the corresponding points.* \n",
        "\n",
        "You will be submitting **a pdf** file containing **the url of your own proj1A.**\n",
        "\n",
        "\n",
        "---\n",
        "\n"
      ]
    },
    {
      "cell_type": "markdown",
      "metadata": {
        "colab_type": "toc",
        "id": "nXcCkWJdz43N"
      },
      "source": [
        ">[Proj1A - Basic Regression: Understanding the ADNI Data Using Regression](#scrollTo=EIdT9iu_Z4Rb)\n",
        "\n",
        ">>[1. Load in the Data](#scrollTo=gFh9ne3FZ-On)\n",
        "\n",
        ">>[2. Clean the Data](#scrollTo=3MWuJTKEDM-f)\n",
        "\n",
        ">>[3Inspect the Data](#scrollTo=J4ubs136WLNp)\n",
        "\n",
        ">>[Select a Few Features to Work On and Split Features from Labels](#scrollTo=Db7Auq1yXUvh)\n",
        "\n",
        ">>[Normalization](#scrollTo=mRklxK5s388r)\n",
        "\n",
        ">>>[5.1 The Normalization Layer](#scrollTo=aFJ6ISropeoo)\n",
        "\n",
        ">>[Linear regression](#scrollTo=6o3CrycBXA2s)\n",
        "\n",
        ">>>[6.1. One Variable](#scrollTo=lFby9n0tnHkw)\n",
        "\n",
        ">>>[6.2. Multiple Variables (Features)](#scrollTo=Yk2RmlqPoM9u)\n",
        "\n",
        ">[Extra Credit: A DNN regression](#scrollTo=SmjdzxKzEu1-)\n",
        "\n",
        ">>[Instructions](#scrollTo=DT_aHPsrzO1t)\n",
        "\n",
        ">>[A. Train the Model](#scrollTo=ELz48lsgqC46)\n",
        "\n",
        ">>>[A1. One Variable](#scrollTo=7T4RP1V36gVn)\n",
        "\n",
        ">>>[A2. Full Model](#scrollTo=S_2Btebp2e64)\n",
        "\n",
        ">>[B. Performance](#scrollTo=uiCucdPLfMkZ)\n",
        "\n",
        ">>[C. Make Predictions](#scrollTo=ft603OzXuEZC)\n",
        "\n",
        ">[Conclusion](#scrollTo=vgGQuV-yqYZH)\n",
        "\n"
      ]
    },
    {
      "cell_type": "markdown",
      "metadata": {
        "id": "8F-jbPqgsvIc"
      },
      "source": [
        "## Table of Contents\n",
        "\n",
        "Introduction (Points: 30 points)\n",
        "1. Load in the Data\n",
        "2. Clean the Data\n",
        "3. Inspect the Data\n",
        "4. Select a Few Features to Work On and Split Features from Labels\n",
        "5. Normalization\n",
        "\n",
        "  5.1 The Normalization Layer\n",
        "\n",
        "6. Linear Regression\n",
        "\n",
        "  6.1 One Variable\n",
        " \n",
        "  6.2 Multiple Variable (Features)\n",
        "\n",
        "A DNN Regression (Extra Credit: 3 points)\n",
        "\n",
        "1. Instructions\n",
        "2. A. Train the Model \n",
        "\n",
        "  A1. One Variable \n",
        "  \n",
        "  A2. Full Model\n",
        "\n",
        "3. B. Performance\n",
        "4. C. Make Predictions\n",
        "\n",
        "Conclusion\n",
        "\n",
        "---\n",
        "\n"
      ]
    },
    {
      "cell_type": "markdown",
      "metadata": {
        "id": "Ig9iJgBLsFfz"
      },
      "source": [
        "## Introduction\n",
        "\n",
        "In a **regression** problem, the aim is to *predict the output of a continuous value*, like a price or a probability.\n",
        "\n",
        "Contrast this with a **classification** problem, where the aim is to *select a class from a list of classes* (for example, where a picture contains an apple or an orange, recognizing which fruit is in the picture).\n",
        "\n",
        "This example uses the `tf.keras API`, see [this guide](https://www.tensorflow.org/guide/keras) for details."
      ]
    },
    {
      "cell_type": "code",
      "metadata": {
        "id": "moB4tpEHxKB3"
      },
      "source": [
        "# Use seaborn for pairplot\n",
        "!pip install -q seaborn"
      ],
      "execution_count": null,
      "outputs": []
    },
    {
      "cell_type": "code",
      "metadata": {
        "id": "1rRo8oNqZ-Rj"
      },
      "source": [
        "import matplotlib.pyplot as plt\n",
        "import numpy as np\n",
        "import pandas as pd\n",
        "import seaborn as sns\n",
        "\n",
        "\n",
        "# Make numpy printouts easier to read.\n",
        "np.set_printoptions(precision=3, suppress=True)"
      ],
      "execution_count": null,
      "outputs": []
    },
    {
      "cell_type": "code",
      "metadata": {
        "id": "9xQKvCJ85kCQ",
        "colab": {
          "base_uri": "https://localhost:8080/"
        },
        "outputId": "449c17fc-0edb-466b-d23b-4ee120a40eba"
      },
      "source": [
        "import tensorflow as tf\n",
        "\n",
        "from tensorflow import keras\n",
        "from tensorflow.keras import layers\n",
        "from tensorflow.keras.layers.experimental import preprocessing\n",
        "\n",
        "print(tf.__version__)"
      ],
      "execution_count": null,
      "outputs": [
        {
          "output_type": "stream",
          "name": "stdout",
          "text": [
            "2.6.0\n"
          ]
        }
      ]
    },
    {
      "cell_type": "markdown",
      "metadata": {
        "id": "gFh9ne3FZ-On"
      },
      "source": [
        "### 1. Load in the Data\n",
        "First download and import the dataset using pandas:"
      ]
    },
    {
      "cell_type": "code",
      "metadata": {
        "id": "CiX2FI4gZtTt"
      },
      "source": [
        "url = \"https://raw.githubusercontent.com/pleunipennings/CSC508Data/main/PatData.csv\" \n",
        "data = pd.read_csv(url)"
      ],
      "execution_count": null,
      "outputs": []
    },
    {
      "cell_type": "code",
      "metadata": {
        "id": "2oY3pMPagJrO",
        "colab": {
          "base_uri": "https://localhost:8080/",
          "height": 313
        },
        "outputId": "1c2077a9-66e2-49c6-9d8d-78f8630eda00"
      },
      "source": [
        "dataset = data.copy()\n",
        "dataset.tail()"
      ],
      "execution_count": null,
      "outputs": [
        {
          "output_type": "execute_result",
          "data": {
            "text/html": [
              "<div>\n",
              "<style scoped>\n",
              "    .dataframe tbody tr th:only-of-type {\n",
              "        vertical-align: middle;\n",
              "    }\n",
              "\n",
              "    .dataframe tbody tr th {\n",
              "        vertical-align: top;\n",
              "    }\n",
              "\n",
              "    .dataframe thead th {\n",
              "        text-align: right;\n",
              "    }\n",
              "</style>\n",
              "<table border=\"1\" class=\"dataframe\">\n",
              "  <thead>\n",
              "    <tr style=\"text-align: right;\">\n",
              "      <th></th>\n",
              "      <th>PTID</th>\n",
              "      <th>AGE</th>\n",
              "      <th>PTGENDER</th>\n",
              "      <th>PTEDUCAT</th>\n",
              "      <th>PTETHCAT</th>\n",
              "      <th>PTRACCAT</th>\n",
              "      <th>PTMARRY</th>\n",
              "      <th>APOE4</th>\n",
              "      <th>DX</th>\n",
              "      <th>Ventricles</th>\n",
              "      <th>Hippocampus</th>\n",
              "      <th>WholeBrain</th>\n",
              "      <th>Entorhinal</th>\n",
              "      <th>Fusiform</th>\n",
              "      <th>MidTemp</th>\n",
              "      <th>ICV</th>\n",
              "    </tr>\n",
              "  </thead>\n",
              "  <tbody>\n",
              "    <tr>\n",
              "      <th>1732</th>\n",
              "      <td>941_S_4377</td>\n",
              "      <td>69.3</td>\n",
              "      <td>Female</td>\n",
              "      <td>12</td>\n",
              "      <td>Not Hisp/Latino</td>\n",
              "      <td>White</td>\n",
              "      <td>Widowed</td>\n",
              "      <td>1.0</td>\n",
              "      <td>MCI</td>\n",
              "      <td>19850.0</td>\n",
              "      <td>6276.500000</td>\n",
              "      <td>854605.0</td>\n",
              "      <td>3098.750000</td>\n",
              "      <td>14773.000000</td>\n",
              "      <td>16232.75</td>\n",
              "      <td>1.307478e+06</td>\n",
              "    </tr>\n",
              "    <tr>\n",
              "      <th>1733</th>\n",
              "      <td>941_S_4420</td>\n",
              "      <td>81.4</td>\n",
              "      <td>Male</td>\n",
              "      <td>18</td>\n",
              "      <td>Not Hisp/Latino</td>\n",
              "      <td>White</td>\n",
              "      <td>Married</td>\n",
              "      <td>0.0</td>\n",
              "      <td>MCI</td>\n",
              "      <td>45450.5</td>\n",
              "      <td>7542.250000</td>\n",
              "      <td>1125837.5</td>\n",
              "      <td>4501.750000</td>\n",
              "      <td>16491.250000</td>\n",
              "      <td>17802.75</td>\n",
              "      <td>1.658722e+06</td>\n",
              "    </tr>\n",
              "    <tr>\n",
              "      <th>1734</th>\n",
              "      <td>941_S_4764</td>\n",
              "      <td>82.7</td>\n",
              "      <td>Female</td>\n",
              "      <td>20</td>\n",
              "      <td>Not Hisp/Latino</td>\n",
              "      <td>White</td>\n",
              "      <td>Never married</td>\n",
              "      <td>0.0</td>\n",
              "      <td>MCI</td>\n",
              "      <td>63228.5</td>\n",
              "      <td>6092.500000</td>\n",
              "      <td>915772.5</td>\n",
              "      <td>3933.666667</td>\n",
              "      <td>17667.333333</td>\n",
              "      <td>17832.00</td>\n",
              "      <td>1.483815e+06</td>\n",
              "    </tr>\n",
              "    <tr>\n",
              "      <th>1735</th>\n",
              "      <td>941_S_5124</td>\n",
              "      <td>76.7</td>\n",
              "      <td>Female</td>\n",
              "      <td>20</td>\n",
              "      <td>Not Hisp/Latino</td>\n",
              "      <td>White</td>\n",
              "      <td>Married</td>\n",
              "      <td>0.0</td>\n",
              "      <td>NL</td>\n",
              "      <td>NaN</td>\n",
              "      <td>4691.666667</td>\n",
              "      <td>NaN</td>\n",
              "      <td>NaN</td>\n",
              "      <td>NaN</td>\n",
              "      <td>NaN</td>\n",
              "      <td>1.489683e+06</td>\n",
              "    </tr>\n",
              "    <tr>\n",
              "      <th>1736</th>\n",
              "      <td>941_S_5193</td>\n",
              "      <td>72.5</td>\n",
              "      <td>Female</td>\n",
              "      <td>16</td>\n",
              "      <td>Not Hisp/Latino</td>\n",
              "      <td>White</td>\n",
              "      <td>Married</td>\n",
              "      <td>0.0</td>\n",
              "      <td>NL</td>\n",
              "      <td>22958.5</td>\n",
              "      <td>7009.500000</td>\n",
              "      <td>1026105.0</td>\n",
              "      <td>4007.500000</td>\n",
              "      <td>15812.500000</td>\n",
              "      <td>17461.00</td>\n",
              "      <td>1.465065e+06</td>\n",
              "    </tr>\n",
              "  </tbody>\n",
              "</table>\n",
              "</div>"
            ],
            "text/plain": [
              "            PTID   AGE PTGENDER  ...      Fusiform   MidTemp           ICV\n",
              "1732  941_S_4377  69.3   Female  ...  14773.000000  16232.75  1.307478e+06\n",
              "1733  941_S_4420  81.4     Male  ...  16491.250000  17802.75  1.658722e+06\n",
              "1734  941_S_4764  82.7   Female  ...  17667.333333  17832.00  1.483815e+06\n",
              "1735  941_S_5124  76.7   Female  ...           NaN       NaN  1.489683e+06\n",
              "1736  941_S_5193  72.5   Female  ...  15812.500000  17461.00  1.465065e+06\n",
              "\n",
              "[5 rows x 16 columns]"
            ]
          },
          "metadata": {},
          "execution_count": 1555
        }
      ]
    },
    {
      "cell_type": "code",
      "metadata": {
        "id": "s_fWRV8xhOUr",
        "colab": {
          "base_uri": "https://localhost:8080/"
        },
        "outputId": "906babc1-edbe-4502-d099-a3e102c068cd"
      },
      "source": [
        "dataset['DX'].value_counts()"
      ],
      "execution_count": null,
      "outputs": [
        {
          "output_type": "execute_result",
          "data": {
            "text/plain": [
              "MCI                586\n",
              "Dementia           577\n",
              "NL                 423\n",
              "MCI to Dementia    108\n",
              "NL to MCI           29\n",
              "MCI to NL            3\n",
              "NL to Dementia       3\n",
              "Dementia to MCI      1\n",
              "Name: DX, dtype: int64"
            ]
          },
          "metadata": {},
          "execution_count": 1556
        }
      ]
    },
    {
      "cell_type": "markdown",
      "metadata": {
        "id": "M-I7yjN1hRdb"
      },
      "source": [
        "So, I would like to take out everything in the dataset **EXCEPT** the following levels: NL, MCI and Dementia. \n",
        "\n",
        "*NL = cognitively normal , MCI = mild cognitive impairement.*"
      ]
    },
    {
      "cell_type": "code",
      "metadata": {
        "id": "C0Nfsz_BhWaU"
      },
      "source": [
        "index_to_drop = dataset[ (dataset['DX'] != \"MCI\") & (dataset['DX'] != \"NL\") & (dataset['DX'] != \"Dementia\")].index\n",
        "  \n",
        "# drop these given row indices from data\n",
        "dataset = dataset.drop(index_to_drop)"
      ],
      "execution_count": null,
      "outputs": []
    },
    {
      "cell_type": "code",
      "metadata": {
        "id": "GKebSjP-hb2L",
        "colab": {
          "base_uri": "https://localhost:8080/"
        },
        "outputId": "3b709c4d-7e33-4dff-9e3a-382a81c13c89"
      },
      "source": [
        "dataset['DX'].value_counts()"
      ],
      "execution_count": null,
      "outputs": [
        {
          "output_type": "execute_result",
          "data": {
            "text/plain": [
              "MCI         586\n",
              "Dementia    577\n",
              "NL          423\n",
              "Name: DX, dtype: int64"
            ]
          },
          "metadata": {},
          "execution_count": 1558
        }
      ]
    },
    {
      "cell_type": "markdown",
      "metadata": {
        "id": "3MWuJTKEDM-f"
      },
      "source": [
        "### 2. Clean the Data\n",
        "\n",
        "The dataset contains a few unknown values. To see how many unknown values, use the following code:"
      ]
    },
    {
      "cell_type": "code",
      "metadata": {
        "id": "JEJHhN65a2VV",
        "colab": {
          "base_uri": "https://localhost:8080/"
        },
        "outputId": "786f0c33-8872-41dd-99e2-207f64a6f3af"
      },
      "source": [
        "dataset.isna().sum()"
      ],
      "execution_count": null,
      "outputs": [
        {
          "output_type": "execute_result",
          "data": {
            "text/plain": [
              "PTID            0\n",
              "AGE             0\n",
              "PTGENDER        0\n",
              "PTEDUCAT        0\n",
              "PTETHCAT        0\n",
              "PTRACCAT        0\n",
              "PTMARRY         0\n",
              "APOE4           6\n",
              "DX              0\n",
              "Ventricles     20\n",
              "Hippocampus    50\n",
              "WholeBrain     12\n",
              "Entorhinal     92\n",
              "Fusiform       92\n",
              "MidTemp        92\n",
              "ICV             1\n",
              "dtype: int64"
            ]
          },
          "metadata": {},
          "execution_count": 1559
        }
      ]
    },
    {
      "cell_type": "markdown",
      "metadata": {
        "id": "9UPN0KBHa_WI"
      },
      "source": [
        "Drop those rows to keep this initial tutorial simple.\n",
        "\n",
        "Q: **(1 point)** What are other ways to process these rows instead of dropping? "
      ]
    },
    {
      "cell_type": "code",
      "metadata": {
        "id": "IRPHl2mEDSAG"
      },
      "source": [
        "dataset = dataset.dropna()"
      ],
      "execution_count": null,
      "outputs": []
    },
    {
      "cell_type": "code",
      "metadata": {
        "id": "4ZUDosChC1UN"
      },
      "source": [
        "# dataset['APOE4'] = dataset['APOE4'].fillna(dataset['APOE4'].mean ())\n",
        "# dataset['Ventricles'] = dataset['Ventricles'].fillna(dataset['Ventricles'].mean())\n",
        "# dataset['Hippocampus'] = dataset['Hippocampus'].fillna(dataset['Hippocampus'].mean())\n",
        "# dataset['WholeBrain'] = dataset['WholeBrain'].fillna(dataset['WholeBrain'].mean())\n",
        "# dataset['Entorhinal'] = dataset['Entorhinal'].fillna(dataset['Entorhinal'].mean())\n",
        "# dataset['Fusiform'] = dataset['Fusiform'].fillna(dataset['Fusiform'].mean())\n",
        "# dataset['MidTemp'] = dataset['MidTemp'].fillna(dataset['MidTemp'].median())\n",
        "# dataset['ICV'] = dataset['ICV'].fillna(dataset['ICV'].mean())\n",
        "# (dataset==np.nan).sum()"
      ],
      "execution_count": null,
      "outputs": []
    },
    {
      "cell_type": "markdown",
      "metadata": {
        "id": "Y6SLJuXALT8y"
      },
      "source": [
        "Categorical Data needs to be properly handled using one-hot-encoding. \n",
        "\n",
        "Q: **(2 points)** Explain in 200 words what is one-hot-encoding and why it is necessary to handle categorical data.\n",
        "\n",
        "Q: **(1 point)** Make one more categorical feature into one-hot-encoding "
      ]
    },
    {
      "cell_type": "markdown",
      "metadata": {
        "id": "pA2Ccz-VMD-6"
      },
      "source": [
        "Q: **(1 point)** Explain why DX column is mapped to numeric values as below."
      ]
    },
    {
      "cell_type": "code",
      "metadata": {
        "id": "Ny2VXtnu5Ji-"
      },
      "source": [
        "cleanup_DX = {\"DX\": {\"NL\": 1, \"MCI\": 2, \"Dementia\": 3}}\n",
        "dataset = dataset.replace(cleanup_DX)"
      ],
      "execution_count": null,
      "outputs": []
    },
    {
      "cell_type": "code",
      "metadata": {
        "id": "qn-IGhUE7_1H"
      },
      "source": [
        "train_dataset = dataset.sample(frac=0.8, random_state=0)\n",
        "test_dataset = dataset.drop(train_dataset.index)"
      ],
      "execution_count": null,
      "outputs": []
    },
    {
      "cell_type": "markdown",
      "metadata": {
        "id": "J4ubs136WLNp"
      },
      "source": [
        "### 3. Inspect the Data\n",
        "\n",
        "Have a quick look at the joint distribution of a few pairs of columns from the training set. *Can you find the data that show their relationship clearly?*\n",
        "\n",
        "Q: **(2 points)** Please work with different columns and write what you have learned from the visualization of the data.  "
      ]
    },
    {
      "cell_type": "code",
      "metadata": {
        "id": "SPKLN_f0gssF"
      },
      "source": [
        "# sns.pairplot(train_dataset[[\"AGE\", \"Hippocampus\", \"Ventricles\", \"WholeBrain\", \"Entorhinal\", \"Fusiform\", \"MidTemp\", \"ICV\", \"APOE4\", \"DX\"]], diag_kind=\"kde\")"
      ],
      "execution_count": null,
      "outputs": []
    },
    {
      "cell_type": "markdown",
      "metadata": {
        "id": "gavKO_6DWRMP"
      },
      "source": [
        "Also look at the overall statistics, note how each feature covers a very different range:"
      ]
    },
    {
      "cell_type": "code",
      "metadata": {
        "id": "yi2FzC3T21jR",
        "colab": {
          "base_uri": "https://localhost:8080/",
          "height": 394
        },
        "outputId": "16dfc581-6c18-4a85-bb27-216b61768b7b"
      },
      "source": [
        "train_dataset.describe().transpose()"
      ],
      "execution_count": null,
      "outputs": [
        {
          "output_type": "execute_result",
          "data": {
            "text/html": [
              "<div>\n",
              "<style scoped>\n",
              "    .dataframe tbody tr th:only-of-type {\n",
              "        vertical-align: middle;\n",
              "    }\n",
              "\n",
              "    .dataframe tbody tr th {\n",
              "        vertical-align: top;\n",
              "    }\n",
              "\n",
              "    .dataframe thead th {\n",
              "        text-align: right;\n",
              "    }\n",
              "</style>\n",
              "<table border=\"1\" class=\"dataframe\">\n",
              "  <thead>\n",
              "    <tr style=\"text-align: right;\">\n",
              "      <th></th>\n",
              "      <th>count</th>\n",
              "      <th>mean</th>\n",
              "      <th>std</th>\n",
              "      <th>min</th>\n",
              "      <th>25%</th>\n",
              "      <th>50%</th>\n",
              "      <th>75%</th>\n",
              "      <th>max</th>\n",
              "    </tr>\n",
              "  </thead>\n",
              "  <tbody>\n",
              "    <tr>\n",
              "      <th>AGE</th>\n",
              "      <td>1183.0</td>\n",
              "      <td>7.354328e+01</td>\n",
              "      <td>7.186444</td>\n",
              "      <td>54.400000</td>\n",
              "      <td>6.910000e+01</td>\n",
              "      <td>7.360000e+01</td>\n",
              "      <td>7.850000e+01</td>\n",
              "      <td>9.140000e+01</td>\n",
              "    </tr>\n",
              "    <tr>\n",
              "      <th>PTEDUCAT</th>\n",
              "      <td>1183.0</td>\n",
              "      <td>1.592899e+01</td>\n",
              "      <td>2.878245</td>\n",
              "      <td>4.000000</td>\n",
              "      <td>1.400000e+01</td>\n",
              "      <td>1.600000e+01</td>\n",
              "      <td>1.800000e+01</td>\n",
              "      <td>2.000000e+01</td>\n",
              "    </tr>\n",
              "    <tr>\n",
              "      <th>APOE4</th>\n",
              "      <td>1183.0</td>\n",
              "      <td>5.714286e-01</td>\n",
              "      <td>0.666908</td>\n",
              "      <td>0.000000</td>\n",
              "      <td>0.000000e+00</td>\n",
              "      <td>0.000000e+00</td>\n",
              "      <td>1.000000e+00</td>\n",
              "      <td>2.000000e+00</td>\n",
              "    </tr>\n",
              "    <tr>\n",
              "      <th>DX</th>\n",
              "      <td>1183.0</td>\n",
              "      <td>2.091293e+00</td>\n",
              "      <td>0.790243</td>\n",
              "      <td>1.000000</td>\n",
              "      <td>1.000000e+00</td>\n",
              "      <td>2.000000e+00</td>\n",
              "      <td>3.000000e+00</td>\n",
              "      <td>3.000000e+00</td>\n",
              "    </tr>\n",
              "    <tr>\n",
              "      <th>Ventricles</th>\n",
              "      <td>1183.0</td>\n",
              "      <td>4.228182e+04</td>\n",
              "      <td>23852.178487</td>\n",
              "      <td>6069.500000</td>\n",
              "      <td>2.461721e+04</td>\n",
              "      <td>3.727520e+04</td>\n",
              "      <td>5.366138e+04</td>\n",
              "      <td>1.514055e+05</td>\n",
              "    </tr>\n",
              "    <tr>\n",
              "      <th>Hippocampus</th>\n",
              "      <td>1183.0</td>\n",
              "      <td>6.631566e+03</td>\n",
              "      <td>1237.390482</td>\n",
              "      <td>2894.500000</td>\n",
              "      <td>5.735750e+03</td>\n",
              "      <td>6.717167e+03</td>\n",
              "      <td>7.537117e+03</td>\n",
              "      <td>1.094188e+04</td>\n",
              "    </tr>\n",
              "    <tr>\n",
              "      <th>WholeBrain</th>\n",
              "      <td>1183.0</td>\n",
              "      <td>1.013104e+06</td>\n",
              "      <td>111468.502835</td>\n",
              "      <td>712985.400000</td>\n",
              "      <td>9.358254e+05</td>\n",
              "      <td>1.008554e+06</td>\n",
              "      <td>1.089934e+06</td>\n",
              "      <td>1.425556e+06</td>\n",
              "    </tr>\n",
              "    <tr>\n",
              "      <th>Entorhinal</th>\n",
              "      <td>1183.0</td>\n",
              "      <td>3.398071e+03</td>\n",
              "      <td>785.824008</td>\n",
              "      <td>1143.000000</td>\n",
              "      <td>2.874750e+03</td>\n",
              "      <td>3.443000e+03</td>\n",
              "      <td>3.945167e+03</td>\n",
              "      <td>5.931000e+03</td>\n",
              "    </tr>\n",
              "    <tr>\n",
              "      <th>Fusiform</th>\n",
              "      <td>1183.0</td>\n",
              "      <td>1.706231e+04</td>\n",
              "      <td>2772.266839</td>\n",
              "      <td>8863.666667</td>\n",
              "      <td>1.520095e+04</td>\n",
              "      <td>1.708750e+04</td>\n",
              "      <td>1.887675e+04</td>\n",
              "      <td>2.863750e+04</td>\n",
              "    </tr>\n",
              "    <tr>\n",
              "      <th>MidTemp</th>\n",
              "      <td>1183.0</td>\n",
              "      <td>1.904685e+04</td>\n",
              "      <td>3155.796565</td>\n",
              "      <td>8850.333333</td>\n",
              "      <td>1.705983e+04</td>\n",
              "      <td>1.905550e+04</td>\n",
              "      <td>2.118038e+04</td>\n",
              "      <td>2.902000e+04</td>\n",
              "    </tr>\n",
              "    <tr>\n",
              "      <th>ICV</th>\n",
              "      <td>1183.0</td>\n",
              "      <td>1.527770e+06</td>\n",
              "      <td>166353.445485</td>\n",
              "      <td>870835.471000</td>\n",
              "      <td>1.408898e+06</td>\n",
              "      <td>1.513443e+06</td>\n",
              "      <td>1.634956e+06</td>\n",
              "      <td>2.070530e+06</td>\n",
              "    </tr>\n",
              "  </tbody>\n",
              "</table>\n",
              "</div>"
            ],
            "text/plain": [
              "              count          mean  ...           75%           max\n",
              "AGE          1183.0  7.354328e+01  ...  7.850000e+01  9.140000e+01\n",
              "PTEDUCAT     1183.0  1.592899e+01  ...  1.800000e+01  2.000000e+01\n",
              "APOE4        1183.0  5.714286e-01  ...  1.000000e+00  2.000000e+00\n",
              "DX           1183.0  2.091293e+00  ...  3.000000e+00  3.000000e+00\n",
              "Ventricles   1183.0  4.228182e+04  ...  5.366138e+04  1.514055e+05\n",
              "Hippocampus  1183.0  6.631566e+03  ...  7.537117e+03  1.094188e+04\n",
              "WholeBrain   1183.0  1.013104e+06  ...  1.089934e+06  1.425556e+06\n",
              "Entorhinal   1183.0  3.398071e+03  ...  3.945167e+03  5.931000e+03\n",
              "Fusiform     1183.0  1.706231e+04  ...  1.887675e+04  2.863750e+04\n",
              "MidTemp      1183.0  1.904685e+04  ...  2.118038e+04  2.902000e+04\n",
              "ICV          1183.0  1.527770e+06  ...  1.634956e+06  2.070530e+06\n",
              "\n",
              "[11 rows x 8 columns]"
            ]
          },
          "metadata": {},
          "execution_count": 1565
        }
      ]
    },
    {
      "cell_type": "markdown",
      "metadata": {
        "id": "ZlOUYti2OIqY"
      },
      "source": [
        "The code below allows you to look into different groups of data -- normal patients, mild patients and dimential patients. \n",
        "\n",
        "Q: **(3 points)** Play with the total data and/or each group data and its regression on age, DX, and other columns "
      ]
    },
    {
      "cell_type": "code",
      "metadata": {
        "id": "jb10GVpP7f4F"
      },
      "source": [
        "# NL_index_to_drop = train_dataset[ (train_dataset['DX'] != 1) ].index\n",
        "\n",
        "# # drop these given row indices from data\n",
        "# train_dataset = train_dataset.drop(NL_index_to_drop)\n",
        "# train_dataset.describe().transpose()"
      ],
      "execution_count": null,
      "outputs": []
    },
    {
      "cell_type": "code",
      "metadata": {
        "id": "1JVUe0JlNrA6"
      },
      "source": [
        "# MCI_index_to_drop = train_dataset[ (train_dataset['DX'] != 2) ].index\n",
        "\n",
        "# # drop these given row indices from data\n",
        "# train_dataset = train_dataset.drop(MCI_index_to_drop)\n",
        "# train_dataset.describe().transpose()"
      ],
      "execution_count": null,
      "outputs": []
    },
    {
      "cell_type": "code",
      "metadata": {
        "id": "Q-CrReIrOHFc"
      },
      "source": [
        "# Dementia_index_to_drop = train_dataset[ (train_dataset['DX'] != 3) ].index\n",
        "\n",
        "# # drop these given row indices from data\n",
        "# train_dataset = train_dataset.drop(Dementia_index_to_drop)\n",
        "# train_dataset.describe().transpose()"
      ],
      "execution_count": null,
      "outputs": []
    },
    {
      "cell_type": "markdown",
      "metadata": {
        "id": "Db7Auq1yXUvh"
      },
      "source": [
        "### 4. Select a Few Features to Work On and Split Features from Labels\n",
        "\n",
        "Separate the target value (the \"label\") from the features. **This label is the value that you will train the model to predict.**"
      ]
    },
    {
      "cell_type": "code",
      "metadata": {
        "id": "t2sluJdCW7jN"
      },
      "source": [
        "train_features = train_dataset[[\"Ventricles\",\"Hippocampus\"]]\n",
        "test_features = test_dataset[[\"Ventricles\",\"Hippocampus\"]]\n",
        "\n",
        "\n",
        "train_labels = train_dataset[\"DX\"]\n",
        "test_labels = test_dataset[\"DX\"]"
      ],
      "execution_count": null,
      "outputs": []
    },
    {
      "cell_type": "markdown",
      "metadata": {
        "id": "mRklxK5s388r"
      },
      "source": [
        "## 5. Normalization\n",
        "\n",
        "In the table of statistics it's easy to see how different the ranges of each feature are.\n",
        "\n",
        "Q: **(2 points)** Write in 100 words why normalization is important.\n",
        "\n",
        "*Note*: There is no advantage to normalizing the one-hot features, it is done here for simplicity. For more details on how to use the preprocessing layers, refer the [Working with preprocessing layers](https://www.tensorflow.org/guide/keras/preprocessing_layers) guide and the [Classify structured data using Keras preprocessing layers](https://www.tensorflow.org/tutorials/structured_data/preprocessing_layers) tutorial."
      ]
    },
    {
      "cell_type": "code",
      "metadata": {
        "id": "IcmY6lKKbkw8",
        "colab": {
          "base_uri": "https://localhost:8080/",
          "height": 112
        },
        "outputId": "651887fe-fbc6-4dde-cdeb-a687137d01e7"
      },
      "source": [
        "train_features.describe().transpose()[['mean', 'std']]"
      ],
      "execution_count": null,
      "outputs": [
        {
          "output_type": "execute_result",
          "data": {
            "text/html": [
              "<div>\n",
              "<style scoped>\n",
              "    .dataframe tbody tr th:only-of-type {\n",
              "        vertical-align: middle;\n",
              "    }\n",
              "\n",
              "    .dataframe tbody tr th {\n",
              "        vertical-align: top;\n",
              "    }\n",
              "\n",
              "    .dataframe thead th {\n",
              "        text-align: right;\n",
              "    }\n",
              "</style>\n",
              "<table border=\"1\" class=\"dataframe\">\n",
              "  <thead>\n",
              "    <tr style=\"text-align: right;\">\n",
              "      <th></th>\n",
              "      <th>mean</th>\n",
              "      <th>std</th>\n",
              "    </tr>\n",
              "  </thead>\n",
              "  <tbody>\n",
              "    <tr>\n",
              "      <th>Ventricles</th>\n",
              "      <td>42281.820746</td>\n",
              "      <td>23852.178487</td>\n",
              "    </tr>\n",
              "    <tr>\n",
              "      <th>Hippocampus</th>\n",
              "      <td>6631.566231</td>\n",
              "      <td>1237.390482</td>\n",
              "    </tr>\n",
              "  </tbody>\n",
              "</table>\n",
              "</div>"
            ],
            "text/plain": [
              "                     mean           std\n",
              "Ventricles   42281.820746  23852.178487\n",
              "Hippocampus   6631.566231   1237.390482"
            ]
          },
          "metadata": {},
          "execution_count": 1570
        }
      ]
    },
    {
      "cell_type": "markdown",
      "metadata": {
        "id": "aFJ6ISropeoo"
      },
      "source": [
        "### 5.1 The Normalization Layer\n",
        "The `preprocessing.Normalization` layer is a clean and simple way to build that preprocessing into your model.\n",
        "\n",
        "The first step is to create the layer:"
      ]
    },
    {
      "cell_type": "code",
      "metadata": {
        "id": "JlC5ooJrgjQF"
      },
      "source": [
        "normalizer = preprocessing.Normalization(axis=-1)"
      ],
      "execution_count": null,
      "outputs": []
    },
    {
      "cell_type": "markdown",
      "metadata": {
        "id": "XYA2Ap6nVOha"
      },
      "source": [
        "Then `.adapt()` it to the data:"
      ]
    },
    {
      "cell_type": "code",
      "metadata": {
        "id": "CrBbbjbwV91f"
      },
      "source": [
        "normalizer.adapt(np.array(train_features))"
      ],
      "execution_count": null,
      "outputs": []
    },
    {
      "cell_type": "markdown",
      "metadata": {
        "id": "oZccMR5yV9YV"
      },
      "source": [
        "The following code calculates the mean and variance, and stores them in the layer. "
      ]
    },
    {
      "cell_type": "code",
      "metadata": {
        "id": "GGn-ukwxSPtx",
        "colab": {
          "base_uri": "https://localhost:8080/"
        },
        "outputId": "bcf4f02d-e2fb-4aeb-861a-0c58ff095b9e"
      },
      "source": [
        "print(normalizer.mean.numpy())"
      ],
      "execution_count": null,
      "outputs": [
        {
          "output_type": "stream",
          "name": "stdout",
          "text": [
            "[[42281.82   6631.566]]\n"
          ]
        }
      ]
    },
    {
      "cell_type": "markdown",
      "metadata": {
        "id": "oGWKaF9GSRuN"
      },
      "source": [
        "When the layer is called, it returns the input data with each feature independently normalized:"
      ]
    },
    {
      "cell_type": "code",
      "metadata": {
        "id": "2l7zFL_XWIRu",
        "colab": {
          "base_uri": "https://localhost:8080/"
        },
        "outputId": "459d1585-f26e-4bd3-e266-54b5dbeafdbd"
      },
      "source": [
        "first = np.array(train_features[:1])\n",
        "\n",
        "with np.printoptions(precision=2, suppress=True):\n",
        "  print('First example:', first)\n",
        "  print()\n",
        "  print('Normalized:', normalizer(first).numpy())"
      ],
      "execution_count": null,
      "outputs": [
        {
          "output_type": "stream",
          "name": "stdout",
          "text": [
            "First example: [[14853.25  5796.2 ]]\n",
            "\n",
            "Normalized: [[-1.15 -0.68]]\n"
          ]
        }
      ]
    },
    {
      "cell_type": "markdown",
      "metadata": {
        "id": "6o3CrycBXA2s"
      },
      "source": [
        "## 6. Linear regression\n",
        "\n",
        "Before building a DNN model, start with a linear regression."
      ]
    },
    {
      "cell_type": "markdown",
      "metadata": {
        "id": "lFby9n0tnHkw"
      },
      "source": [
        "### 6.1. One Variable\n",
        "\n",
        "Start with a single-variable linear regression, to predict `AGE` from `hippocampus`.\n",
        "\n",
        "Q: **(5 points)** Please pick different variable or lable to explore the relationship of the features. \n",
        "\n",
        "Try and show at least 3 different variations.\n",
        "Training a model with `tf.keras` typically starts by defining the model architecture.\n",
        "\n",
        "In this case use a `keras.Sequential` model. This model represents a sequence of steps. In this case there are two steps:\n",
        "\n",
        "* Normalize the input `hippocampus`.\n",
        "* Apply a linear transformation ($y = mx+b$) to produce 1 output using `layers.Dense`.\n",
        "\n",
        "The number of _inputs_ can either be set by the `input_shape` argument, or automatically when the model is run for the first time."
      ]
    },
    {
      "cell_type": "markdown",
      "metadata": {
        "id": "Xp3gAFn3TPv8"
      },
      "source": [
        "First create the hippocampus `Normalization` layer:"
      ]
    },
    {
      "cell_type": "code",
      "metadata": {
        "id": "1gJAy0fKs1TS"
      },
      "source": [
        "input_feature = 'Hippocampus'\n",
        "feature = np.array(train_dataset[input_feature])\n",
        "\n",
        "\n",
        "feature_normalizer = preprocessing.Normalization(input_shape=[1,], axis=None)\n",
        "feature_normalizer.adapt(feature)"
      ],
      "execution_count": null,
      "outputs": []
    },
    {
      "cell_type": "markdown",
      "metadata": {
        "id": "4NVlHJY2TWlC"
      },
      "source": [
        "Build the sequential model:"
      ]
    },
    {
      "cell_type": "code",
      "metadata": {
        "id": "c0sXM7qLlKfZ",
        "colab": {
          "base_uri": "https://localhost:8080/"
        },
        "outputId": "71eb4753-c588-497a-f4dd-b5006ca7fbc3"
      },
      "source": [
        "feature_model = tf.keras.Sequential([\n",
        "    feature_normalizer,\n",
        "    layers.Dense(units=1)\n",
        "])\n",
        "\n",
        "feature_model.summary()"
      ],
      "execution_count": null,
      "outputs": [
        {
          "output_type": "stream",
          "name": "stdout",
          "text": [
            "Model: \"sequential_89\"\n",
            "_________________________________________________________________\n",
            "Layer (type)                 Output Shape              Param #   \n",
            "=================================================================\n",
            "normalization_52 (Normalizat (None, 1)                 3         \n",
            "_________________________________________________________________\n",
            "dense_173 (Dense)            (None, 1)                 2         \n",
            "=================================================================\n",
            "Total params: 5\n",
            "Trainable params: 2\n",
            "Non-trainable params: 3\n",
            "_________________________________________________________________\n"
          ]
        }
      ]
    },
    {
      "cell_type": "markdown",
      "metadata": {
        "id": "eObQu9fDnXGL"
      },
      "source": [
        "This model will predict `AGE` from `hippocampus`.\n",
        "\n",
        "Run the untrained model on the first 10 horse-power values. The output won't be good, but you'll see that it has the expected shape, `(10,1)`:"
      ]
    },
    {
      "cell_type": "code",
      "metadata": {
        "id": "UfV1HS6bns-s",
        "colab": {
          "base_uri": "https://localhost:8080/"
        },
        "outputId": "6d45e1b1-c063-4598-a2f0-eaae771a3f51"
      },
      "source": [
        "feature_model.predict(feature[:10])"
      ],
      "execution_count": null,
      "outputs": [
        {
          "output_type": "execute_result",
          "data": {
            "text/plain": [
              "array([[ 0.217],\n",
              "       [-0.454],\n",
              "       [ 0.349],\n",
              "       [ 0.237],\n",
              "       [-0.125],\n",
              "       [ 0.643],\n",
              "       [ 0.433],\n",
              "       [ 0.325],\n",
              "       [-0.048],\n",
              "       [-0.243]], dtype=float32)"
            ]
          },
          "metadata": {},
          "execution_count": 1577
        }
      ]
    },
    {
      "cell_type": "markdown",
      "metadata": {
        "id": "CSkanJlmmFBX"
      },
      "source": [
        "Once the model is built, configure the training procedure using the `Model.compile()` method. The most important arguments to compile are the `loss` and the `optimizer` since these define what will be optimized (`mean_absolute_error`) and how (using the `optimizers.Adam`)."
      ]
    },
    {
      "cell_type": "code",
      "metadata": {
        "id": "JxA_3lpOm-SK"
      },
      "source": [
        "feature_model.compile(\n",
        "    optimizer=tf.optimizers.Adam(learning_rate=0.1),\n",
        "    loss='mean_absolute_error')"
      ],
      "execution_count": null,
      "outputs": []
    },
    {
      "cell_type": "markdown",
      "metadata": {
        "id": "Z3q1I9TwnRSC"
      },
      "source": [
        "Once the training is configured, use `Model.fit()` to execute the training:\n",
        "\n",
        "Q: **(5 points)** Explore different hyperparameters such as learning rate, epochs, batch sizes. Please document your explorations and reflections."
      ]
    },
    {
      "cell_type": "code",
      "metadata": {
        "id": "-iSrNy59nRAp",
        "colab": {
          "base_uri": "https://localhost:8080/"
        },
        "outputId": "e85d36bb-4275-4943-9040-2564511f9557"
      },
      "source": [
        "%%time\n",
        "history = feature_model.fit(\n",
        "    train_dataset[input_feature], train_labels,\n",
        "    epochs=100,\n",
        "    # suppress logging\n",
        "    verbose=1,\n",
        "    # Calculate validation results on 20% of the training data\n",
        "    validation_split = 0.2)"
      ],
      "execution_count": null,
      "outputs": [
        {
          "output_type": "stream",
          "name": "stdout",
          "text": [
            "Epoch 1/100\n",
            "30/30 [==============================] - 1s 7ms/step - loss: 1.0373 - val_loss: 0.5992\n",
            "Epoch 2/100\n",
            "30/30 [==============================] - 0s 4ms/step - loss: 0.5613 - val_loss: 0.5557\n",
            "Epoch 3/100\n",
            "30/30 [==============================] - 0s 4ms/step - loss: 0.5411 - val_loss: 0.5558\n",
            "Epoch 4/100\n",
            "30/30 [==============================] - 0s 4ms/step - loss: 0.5449 - val_loss: 0.5609\n",
            "Epoch 5/100\n",
            "30/30 [==============================] - 0s 4ms/step - loss: 0.5464 - val_loss: 0.5568\n",
            "Epoch 6/100\n",
            "30/30 [==============================] - 0s 3ms/step - loss: 0.5437 - val_loss: 0.5564\n",
            "Epoch 7/100\n",
            "30/30 [==============================] - 0s 4ms/step - loss: 0.5452 - val_loss: 0.5555\n",
            "Epoch 8/100\n",
            "30/30 [==============================] - 0s 4ms/step - loss: 0.5449 - val_loss: 0.5572\n",
            "Epoch 9/100\n",
            "30/30 [==============================] - 0s 3ms/step - loss: 0.5446 - val_loss: 0.5567\n",
            "Epoch 10/100\n",
            "30/30 [==============================] - 0s 3ms/step - loss: 0.5425 - val_loss: 0.5611\n",
            "Epoch 11/100\n",
            "30/30 [==============================] - 0s 3ms/step - loss: 0.5432 - val_loss: 0.5720\n",
            "Epoch 12/100\n",
            "30/30 [==============================] - 0s 3ms/step - loss: 0.5490 - val_loss: 0.5647\n",
            "Epoch 13/100\n",
            "30/30 [==============================] - 0s 3ms/step - loss: 0.5474 - val_loss: 0.5613\n",
            "Epoch 14/100\n",
            "30/30 [==============================] - 0s 4ms/step - loss: 0.5463 - val_loss: 0.5653\n",
            "Epoch 15/100\n",
            "30/30 [==============================] - 0s 4ms/step - loss: 0.5491 - val_loss: 0.5561\n",
            "Epoch 16/100\n",
            "30/30 [==============================] - 0s 3ms/step - loss: 0.5420 - val_loss: 0.5743\n",
            "Epoch 17/100\n",
            "30/30 [==============================] - 0s 4ms/step - loss: 0.5465 - val_loss: 0.5559\n",
            "Epoch 18/100\n",
            "30/30 [==============================] - 0s 3ms/step - loss: 0.5510 - val_loss: 0.5595\n",
            "Epoch 19/100\n",
            "30/30 [==============================] - 0s 5ms/step - loss: 0.5404 - val_loss: 0.5635\n",
            "Epoch 20/100\n",
            "30/30 [==============================] - 0s 4ms/step - loss: 0.5454 - val_loss: 0.5600\n",
            "Epoch 21/100\n",
            "30/30 [==============================] - 0s 3ms/step - loss: 0.5477 - val_loss: 0.5561\n",
            "Epoch 22/100\n",
            "30/30 [==============================] - 0s 4ms/step - loss: 0.5449 - val_loss: 0.5554\n",
            "Epoch 23/100\n",
            "30/30 [==============================] - 0s 3ms/step - loss: 0.5435 - val_loss: 0.5642\n",
            "Epoch 24/100\n",
            "30/30 [==============================] - 0s 4ms/step - loss: 0.5465 - val_loss: 0.5639\n",
            "Epoch 25/100\n",
            "30/30 [==============================] - 0s 4ms/step - loss: 0.5609 - val_loss: 0.5571\n",
            "Epoch 26/100\n",
            "30/30 [==============================] - 0s 4ms/step - loss: 0.5446 - val_loss: 0.5565\n",
            "Epoch 27/100\n",
            "30/30 [==============================] - 0s 3ms/step - loss: 0.5478 - val_loss: 0.5782\n",
            "Epoch 28/100\n",
            "30/30 [==============================] - 0s 4ms/step - loss: 0.5472 - val_loss: 0.5582\n",
            "Epoch 29/100\n",
            "30/30 [==============================] - 0s 3ms/step - loss: 0.5418 - val_loss: 0.5601\n",
            "Epoch 30/100\n",
            "30/30 [==============================] - 0s 4ms/step - loss: 0.5491 - val_loss: 0.5622\n",
            "Epoch 31/100\n",
            "30/30 [==============================] - 0s 4ms/step - loss: 0.5489 - val_loss: 0.5580\n",
            "Epoch 32/100\n",
            "30/30 [==============================] - 0s 4ms/step - loss: 0.5448 - val_loss: 0.5676\n",
            "Epoch 33/100\n",
            "30/30 [==============================] - 0s 3ms/step - loss: 0.5520 - val_loss: 0.5668\n",
            "Epoch 34/100\n",
            "30/30 [==============================] - 0s 4ms/step - loss: 0.5461 - val_loss: 0.5555\n",
            "Epoch 35/100\n",
            "30/30 [==============================] - 0s 4ms/step - loss: 0.5495 - val_loss: 0.5554\n",
            "Epoch 36/100\n",
            "30/30 [==============================] - 0s 4ms/step - loss: 0.5517 - val_loss: 0.5673\n",
            "Epoch 37/100\n",
            "30/30 [==============================] - 0s 4ms/step - loss: 0.5488 - val_loss: 0.5552\n",
            "Epoch 38/100\n",
            "30/30 [==============================] - 0s 4ms/step - loss: 0.5514 - val_loss: 0.5567\n",
            "Epoch 39/100\n",
            "30/30 [==============================] - 0s 4ms/step - loss: 0.5507 - val_loss: 0.5703\n",
            "Epoch 40/100\n",
            "30/30 [==============================] - 0s 3ms/step - loss: 0.5482 - val_loss: 0.5697\n",
            "Epoch 41/100\n",
            "30/30 [==============================] - 0s 3ms/step - loss: 0.5667 - val_loss: 0.5567\n",
            "Epoch 42/100\n",
            "30/30 [==============================] - 0s 3ms/step - loss: 0.5563 - val_loss: 0.5562\n",
            "Epoch 43/100\n",
            "30/30 [==============================] - 0s 4ms/step - loss: 0.5448 - val_loss: 0.5684\n",
            "Epoch 44/100\n",
            "30/30 [==============================] - 0s 4ms/step - loss: 0.5518 - val_loss: 0.5553\n",
            "Epoch 45/100\n",
            "30/30 [==============================] - 0s 3ms/step - loss: 0.5542 - val_loss: 0.5683\n",
            "Epoch 46/100\n",
            "30/30 [==============================] - 0s 4ms/step - loss: 0.5609 - val_loss: 0.5554\n",
            "Epoch 47/100\n",
            "30/30 [==============================] - 0s 4ms/step - loss: 0.5464 - val_loss: 0.5579\n",
            "Epoch 48/100\n",
            "30/30 [==============================] - 0s 4ms/step - loss: 0.5517 - val_loss: 0.5551\n",
            "Epoch 49/100\n",
            "30/30 [==============================] - 0s 4ms/step - loss: 0.5567 - val_loss: 0.5688\n",
            "Epoch 50/100\n",
            "30/30 [==============================] - 0s 4ms/step - loss: 0.5490 - val_loss: 0.5608\n",
            "Epoch 51/100\n",
            "30/30 [==============================] - 0s 4ms/step - loss: 0.5418 - val_loss: 0.5577\n",
            "Epoch 52/100\n",
            "30/30 [==============================] - 0s 4ms/step - loss: 0.5428 - val_loss: 0.5549\n",
            "Epoch 53/100\n",
            "30/30 [==============================] - 0s 4ms/step - loss: 0.5476 - val_loss: 0.5568\n",
            "Epoch 54/100\n",
            "30/30 [==============================] - 0s 3ms/step - loss: 0.5444 - val_loss: 0.5560\n",
            "Epoch 55/100\n",
            "30/30 [==============================] - 0s 3ms/step - loss: 0.5452 - val_loss: 0.5600\n",
            "Epoch 56/100\n",
            "30/30 [==============================] - 0s 3ms/step - loss: 0.5445 - val_loss: 0.5705\n",
            "Epoch 57/100\n",
            "30/30 [==============================] - 0s 4ms/step - loss: 0.5437 - val_loss: 0.5611\n",
            "Epoch 58/100\n",
            "30/30 [==============================] - 0s 4ms/step - loss: 0.5406 - val_loss: 0.5584\n",
            "Epoch 59/100\n",
            "30/30 [==============================] - 0s 4ms/step - loss: 0.5497 - val_loss: 0.5613\n",
            "Epoch 60/100\n",
            "30/30 [==============================] - 0s 3ms/step - loss: 0.5494 - val_loss: 0.5736\n",
            "Epoch 61/100\n",
            "30/30 [==============================] - 0s 4ms/step - loss: 0.5582 - val_loss: 0.5642\n",
            "Epoch 62/100\n",
            "30/30 [==============================] - 0s 4ms/step - loss: 0.5513 - val_loss: 0.5554\n",
            "Epoch 63/100\n",
            "30/30 [==============================] - 0s 3ms/step - loss: 0.5474 - val_loss: 0.5809\n",
            "Epoch 64/100\n",
            "30/30 [==============================] - 0s 4ms/step - loss: 0.5534 - val_loss: 0.5588\n",
            "Epoch 65/100\n",
            "30/30 [==============================] - 0s 3ms/step - loss: 0.5469 - val_loss: 0.5548\n",
            "Epoch 66/100\n",
            "30/30 [==============================] - 0s 3ms/step - loss: 0.5488 - val_loss: 0.5654\n",
            "Epoch 67/100\n",
            "30/30 [==============================] - 0s 4ms/step - loss: 0.5465 - val_loss: 0.5574\n",
            "Epoch 68/100\n",
            "30/30 [==============================] - 0s 4ms/step - loss: 0.5465 - val_loss: 0.5686\n",
            "Epoch 69/100\n",
            "30/30 [==============================] - 0s 4ms/step - loss: 0.5460 - val_loss: 0.5772\n",
            "Epoch 70/100\n",
            "30/30 [==============================] - 0s 4ms/step - loss: 0.5758 - val_loss: 0.5656\n",
            "Epoch 71/100\n",
            "30/30 [==============================] - 0s 4ms/step - loss: 0.5480 - val_loss: 0.5594\n",
            "Epoch 72/100\n",
            "30/30 [==============================] - 0s 4ms/step - loss: 0.5461 - val_loss: 0.5549\n",
            "Epoch 73/100\n",
            "30/30 [==============================] - 0s 4ms/step - loss: 0.5455 - val_loss: 0.5615\n",
            "Epoch 74/100\n",
            "30/30 [==============================] - 0s 4ms/step - loss: 0.5432 - val_loss: 0.5604\n",
            "Epoch 75/100\n",
            "30/30 [==============================] - 0s 4ms/step - loss: 0.5465 - val_loss: 0.5631\n",
            "Epoch 76/100\n",
            "30/30 [==============================] - 0s 4ms/step - loss: 0.5494 - val_loss: 0.5564\n",
            "Epoch 77/100\n",
            "30/30 [==============================] - 0s 4ms/step - loss: 0.5578 - val_loss: 0.5819\n",
            "Epoch 78/100\n",
            "30/30 [==============================] - 0s 4ms/step - loss: 0.5493 - val_loss: 0.5580\n",
            "Epoch 79/100\n",
            "30/30 [==============================] - 0s 3ms/step - loss: 0.5433 - val_loss: 0.5574\n",
            "Epoch 80/100\n",
            "30/30 [==============================] - 0s 4ms/step - loss: 0.5485 - val_loss: 0.5609\n",
            "Epoch 81/100\n",
            "30/30 [==============================] - 0s 4ms/step - loss: 0.5475 - val_loss: 0.5579\n",
            "Epoch 82/100\n",
            "30/30 [==============================] - 0s 4ms/step - loss: 0.5424 - val_loss: 0.5553\n",
            "Epoch 83/100\n",
            "30/30 [==============================] - 0s 3ms/step - loss: 0.5441 - val_loss: 0.5574\n",
            "Epoch 84/100\n",
            "30/30 [==============================] - 0s 4ms/step - loss: 0.5441 - val_loss: 0.5606\n",
            "Epoch 85/100\n",
            "30/30 [==============================] - 0s 4ms/step - loss: 0.5414 - val_loss: 0.5732\n",
            "Epoch 86/100\n",
            "30/30 [==============================] - 0s 4ms/step - loss: 0.5521 - val_loss: 0.5576\n",
            "Epoch 87/100\n",
            "30/30 [==============================] - 0s 4ms/step - loss: 0.5506 - val_loss: 0.5783\n",
            "Epoch 88/100\n",
            "30/30 [==============================] - 0s 4ms/step - loss: 0.5562 - val_loss: 0.5561\n",
            "Epoch 89/100\n",
            "30/30 [==============================] - 0s 3ms/step - loss: 0.5445 - val_loss: 0.5635\n",
            "Epoch 90/100\n",
            "30/30 [==============================] - 0s 4ms/step - loss: 0.5456 - val_loss: 0.5654\n",
            "Epoch 91/100\n",
            "30/30 [==============================] - 0s 4ms/step - loss: 0.5514 - val_loss: 0.5576\n",
            "Epoch 92/100\n",
            "30/30 [==============================] - 0s 4ms/step - loss: 0.5499 - val_loss: 0.5652\n",
            "Epoch 93/100\n",
            "30/30 [==============================] - 0s 4ms/step - loss: 0.5452 - val_loss: 0.5557\n",
            "Epoch 94/100\n",
            "30/30 [==============================] - 0s 3ms/step - loss: 0.5450 - val_loss: 0.5565\n",
            "Epoch 95/100\n",
            "30/30 [==============================] - 0s 4ms/step - loss: 0.5451 - val_loss: 0.5595\n",
            "Epoch 96/100\n",
            "30/30 [==============================] - 0s 4ms/step - loss: 0.5444 - val_loss: 0.5609\n",
            "Epoch 97/100\n",
            "30/30 [==============================] - 0s 3ms/step - loss: 0.5421 - val_loss: 0.5574\n",
            "Epoch 98/100\n",
            "30/30 [==============================] - 0s 4ms/step - loss: 0.5412 - val_loss: 0.5641\n",
            "Epoch 99/100\n",
            "30/30 [==============================] - 0s 3ms/step - loss: 0.5495 - val_loss: 0.5563\n",
            "Epoch 100/100\n",
            "30/30 [==============================] - 0s 4ms/step - loss: 0.5467 - val_loss: 0.5606\n",
            "CPU times: user 13.8 s, sys: 1.58 s, total: 15.4 s\n",
            "Wall time: 20.8 s\n"
          ]
        }
      ]
    },
    {
      "cell_type": "markdown",
      "metadata": {
        "id": "tQm3pc0FYPQB"
      },
      "source": [
        "Visualize the model's training progress using the stats stored in the `history` object."
      ]
    },
    {
      "cell_type": "code",
      "metadata": {
        "id": "YCAwD_y4AdC3",
        "colab": {
          "base_uri": "https://localhost:8080/",
          "height": 206
        },
        "outputId": "64804bab-fe4a-4549-ffa5-5850605fe8c6"
      },
      "source": [
        "hist = pd.DataFrame(history.history)\n",
        "hist['epoch'] = history.epoch\n",
        "hist.tail()"
      ],
      "execution_count": null,
      "outputs": [
        {
          "output_type": "execute_result",
          "data": {
            "text/html": [
              "<div>\n",
              "<style scoped>\n",
              "    .dataframe tbody tr th:only-of-type {\n",
              "        vertical-align: middle;\n",
              "    }\n",
              "\n",
              "    .dataframe tbody tr th {\n",
              "        vertical-align: top;\n",
              "    }\n",
              "\n",
              "    .dataframe thead th {\n",
              "        text-align: right;\n",
              "    }\n",
              "</style>\n",
              "<table border=\"1\" class=\"dataframe\">\n",
              "  <thead>\n",
              "    <tr style=\"text-align: right;\">\n",
              "      <th></th>\n",
              "      <th>loss</th>\n",
              "      <th>val_loss</th>\n",
              "      <th>epoch</th>\n",
              "    </tr>\n",
              "  </thead>\n",
              "  <tbody>\n",
              "    <tr>\n",
              "      <th>95</th>\n",
              "      <td>0.544381</td>\n",
              "      <td>0.560862</td>\n",
              "      <td>95</td>\n",
              "    </tr>\n",
              "    <tr>\n",
              "      <th>96</th>\n",
              "      <td>0.542111</td>\n",
              "      <td>0.557436</td>\n",
              "      <td>96</td>\n",
              "    </tr>\n",
              "    <tr>\n",
              "      <th>97</th>\n",
              "      <td>0.541170</td>\n",
              "      <td>0.564071</td>\n",
              "      <td>97</td>\n",
              "    </tr>\n",
              "    <tr>\n",
              "      <th>98</th>\n",
              "      <td>0.549533</td>\n",
              "      <td>0.556339</td>\n",
              "      <td>98</td>\n",
              "    </tr>\n",
              "    <tr>\n",
              "      <th>99</th>\n",
              "      <td>0.546696</td>\n",
              "      <td>0.560644</td>\n",
              "      <td>99</td>\n",
              "    </tr>\n",
              "  </tbody>\n",
              "</table>\n",
              "</div>"
            ],
            "text/plain": [
              "        loss  val_loss  epoch\n",
              "95  0.544381  0.560862     95\n",
              "96  0.542111  0.557436     96\n",
              "97  0.541170  0.564071     97\n",
              "98  0.549533  0.556339     98\n",
              "99  0.546696  0.560644     99"
            ]
          },
          "metadata": {},
          "execution_count": 1580
        }
      ]
    },
    {
      "cell_type": "code",
      "metadata": {
        "id": "9E54UoZunqhc"
      },
      "source": [
        "def plot_loss(history):\n",
        "  plt.plot(history.history['loss'], label='loss')\n",
        "  plt.plot(history.history['val_loss'], label='val_loss')\n",
        "  plt.ylim([0, 100])\n",
        "  plt.xlabel('Epoch')\n",
        "  plt.ylabel('Error [MPG]')\n",
        "  plt.legend()\n",
        "  plt.grid(True)"
      ],
      "execution_count": null,
      "outputs": []
    },
    {
      "cell_type": "code",
      "metadata": {
        "id": "yYsQYrIZyqjz",
        "colab": {
          "base_uri": "https://localhost:8080/",
          "height": 282
        },
        "outputId": "9e916a8c-81a8-4ab4-e49a-2744e6b3f81f"
      },
      "source": [
        "plot_loss(history)"
      ],
      "execution_count": null,
      "outputs": [
        {
          "output_type": "display_data",
          "data": {
            "image/png": "[encoded data removed]",
            "text/plain": [
              "<Figure size 432x288 with 1 Axes>"
            ]
          },
          "metadata": {
            "needs_background": "light"
          }
        }
      ]
    },
    {
      "cell_type": "markdown",
      "metadata": {
        "id": "CMNrt8X2ebXd"
      },
      "source": [
        "Collect the results on the test set, for later:"
      ]
    },
    {
      "cell_type": "code",
      "metadata": {
        "id": "kDZ8EvNYrDtx"
      },
      "source": [
        "test_results = {}\n",
        "\n",
        "test_results['feature_model'] = feature_model.evaluate(\n",
        "    test_dataset[input_feature],\n",
        "    test_labels, verbose=0)"
      ],
      "execution_count": null,
      "outputs": []
    },
    {
      "cell_type": "markdown",
      "metadata": {
        "id": "F0qutYAKwoda"
      },
      "source": [
        "Since this is a single variable regression it's easy to look at the model's predictions as a function of the input:\n",
        "\n",
        "Q: **(1 point)** Replace the hard-coded constants with the min & max of this variable to work with other variables without changing it."
      ]
    },
    {
      "cell_type": "code",
      "metadata": {
        "id": "xDS2JEtOn9Jn"
      },
      "source": [
        "x = tf.linspace(min(train_dataset[input_feature]),max(train_dataset[input_feature]), 100)\n",
        "y = feature_model.predict(x)"
      ],
      "execution_count": null,
      "outputs": []
    },
    {
      "cell_type": "markdown",
      "metadata": {
        "id": "x00t3uv2UhrV"
      },
      "source": [
        "Q: **(1 point)** The name of feature 'Hippocampus' and the label 'age' should be replaced as variables, so exploring different variables will be easy without making changes every time. "
      ]
    },
    {
      "cell_type": "code",
      "metadata": {
        "id": "rttFCTU8czsI"
      },
      "source": [
        "def plot_feature(x, y):\n",
        "  plt.scatter(train_dataset[input_feature], train_labels, label='Data')\n",
        "  plt.plot(x, y, color='k', label='Predictions')\n",
        "  plt.xlabel(input_feature)\n",
        "  plt.ylabel('DX')\n",
        "  plt.legend()"
      ],
      "execution_count": null,
      "outputs": []
    },
    {
      "cell_type": "code",
      "metadata": {
        "id": "7l9ZiAOEUNBL",
        "colab": {
          "base_uri": "https://localhost:8080/",
          "height": 281
        },
        "outputId": "dd5952da-7ae2-4001-ba98-5ec840b5a7e1"
      },
      "source": [
        "plot_feature(x,y)"
      ],
      "execution_count": null,
      "outputs": [
        {
          "output_type": "display_data",
          "data": {
            "image/png": "[encoded data removed]",
            "text/plain": [
              "<Figure size 432x288 with 1 Axes>"
            ]
          },
          "metadata": {
            "needs_background": "light"
          }
        }
      ]
    },
    {
      "cell_type": "markdown",
      "metadata": {
        "id": "Yk2RmlqPoM9u"
      },
      "source": [
        "### 6.2. Multiple Variables (Features)"
      ]
    },
    {
      "cell_type": "markdown",
      "metadata": {
        "id": "PribnwDHUksC"
      },
      "source": [
        "You can use an almost identical setup to make predictions based on multiple inputs. This model still does the same $y = mx+b$ except that $m$ is a matrix and $b$ is a vector.\n",
        "\n",
        "This time use the `Normalization` layer that was adapted to the whole dataset."
      ]
    },
    {
      "cell_type": "code",
      "metadata": {
        "id": "ssnVcKg7oMe6",
        "colab": {
          "base_uri": "https://localhost:8080/"
        },
        "outputId": "262347b1-9955-4517-c3b0-5b1fde07c6cc"
      },
      "source": [
        "linear_model = tf.keras.Sequential([\n",
        "    normalizer,\n",
        "    layers.Dense(units=1)\n",
        "])\n",
        "\n",
        "linear_model.summary()"
      ],
      "execution_count": null,
      "outputs": [
        {
          "output_type": "stream",
          "name": "stdout",
          "text": [
            "Model: \"sequential_90\"\n",
            "_________________________________________________________________\n",
            "Layer (type)                 Output Shape              Param #   \n",
            "=================================================================\n",
            "normalization_51 (Normalizat (None, 2)                 5         \n",
            "_________________________________________________________________\n",
            "dense_174 (Dense)            (None, 1)                 3         \n",
            "=================================================================\n",
            "Total params: 8\n",
            "Trainable params: 3\n",
            "Non-trainable params: 5\n",
            "_________________________________________________________________\n"
          ]
        }
      ]
    },
    {
      "cell_type": "markdown",
      "metadata": {
        "id": "IHlx6WeIWyAr"
      },
      "source": [
        "When you call this model on a batch of inputs, it produces `units=1` outputs for each example."
      ]
    },
    {
      "cell_type": "code",
      "metadata": {
        "id": "DynfJV18WiuT",
        "colab": {
          "base_uri": "https://localhost:8080/"
        },
        "outputId": "269d5872-5112-4ab6-ccdf-c837f5280951"
      },
      "source": [
        "linear_model.predict(train_features[:10])"
      ],
      "execution_count": null,
      "outputs": [
        {
          "output_type": "execute_result",
          "data": {
            "text/plain": [
              "array([[-1.593],\n",
              "       [ 0.691],\n",
              "       [-0.342],\n",
              "       [-1.19 ],\n",
              "       [-1.257],\n",
              "       [ 2.143],\n",
              "       [ 0.636],\n",
              "       [-1.846],\n",
              "       [ 0.876],\n",
              "       [ 0.425]], dtype=float32)"
            ]
          },
          "metadata": {},
          "execution_count": 1588
        }
      ]
    },
    {
      "cell_type": "markdown",
      "metadata": {
        "id": "hvHKH3rPXHmq"
      },
      "source": [
        "When you call the model it's weight matrices will be built. Now you can see that the `kernel` (the $m$ in $y=mx+b$) has a shape of `(9,1)`."
      ]
    },
    {
      "cell_type": "code",
      "metadata": {
        "id": "DwJ4Fq0RXBQf",
        "colab": {
          "base_uri": "https://localhost:8080/"
        },
        "outputId": "4713af4a-f9c7-4cfa-976f-7adaec6e47a1"
      },
      "source": [
        "linear_model.layers[1].kernel"
      ],
      "execution_count": null,
      "outputs": [
        {
          "output_type": "execute_result",
          "data": {
            "text/plain": [
              "<tf.Variable 'dense_174/kernel:0' shape=(2, 1) dtype=float32, numpy=\n",
              "array([[1.285],\n",
              "       [0.171]], dtype=float32)>"
            ]
          },
          "metadata": {},
          "execution_count": 1589
        }
      ]
    },
    {
      "cell_type": "markdown",
      "metadata": {
        "id": "eINAc6rZXzOt"
      },
      "source": [
        "Use the same `compile` and `fit` calls as for the single input `hippocampus` model:"
      ]
    },
    {
      "cell_type": "code",
      "metadata": {
        "id": "A0Sv_Ybr0szp"
      },
      "source": [
        "linear_model.compile(\n",
        "    optimizer=tf.optimizers.Adam(learning_rate=0.1),\n",
        "    loss='mean_absolute_error')"
      ],
      "execution_count": null,
      "outputs": []
    },
    {
      "cell_type": "code",
      "metadata": {
        "id": "EZoOYORvoTSe",
        "colab": {
          "base_uri": "https://localhost:8080/"
        },
        "outputId": "ab9af49d-3e25-4483-e89e-26b987d2086c"
      },
      "source": [
        "%%time\n",
        "history = linear_model.fit(\n",
        "    train_features, train_labels, \n",
        "    epochs=80,\n",
        "    # suppress logging\n",
        "    verbose=0,\n",
        "    # Calculate validation results on 20% of the training data\n",
        "    validation_split = 0.2)"
      ],
      "execution_count": null,
      "outputs": [
        {
          "output_type": "stream",
          "name": "stdout",
          "text": [
            "CPU times: user 9.16 s, sys: 1.04 s, total: 10.2 s\n",
            "Wall time: 10.6 s\n"
          ]
        }
      ]
    },
    {
      "cell_type": "markdown",
      "metadata": {
        "id": "EdxiCbiNYK2F"
      },
      "source": [
        "Using all the inputs achieves a much lower training and validation error than the `hippocampus` model: "
      ]
    },
    {
      "cell_type": "code",
      "metadata": {
        "id": "4sWO3W0koYgu",
        "colab": {
          "base_uri": "https://localhost:8080/",
          "height": 282
        },
        "outputId": "5db5db2f-3d47-48cc-a36a-bdb2dcff9c1b"
      },
      "source": [
        "plot_loss(history)"
      ],
      "execution_count": null,
      "outputs": [
        {
          "output_type": "display_data",
          "data": {
            "image/png": "[encoded data removed]",
            "text/plain": [
              "<Figure size 432x288 with 1 Axes>"
            ]
          },
          "metadata": {
            "needs_background": "light"
          }
        }
      ]
    },
    {
      "cell_type": "markdown",
      "metadata": {
        "id": "NyN49hIWe_NH"
      },
      "source": [
        "Collect the results on the test set, for later:"
      ]
    },
    {
      "cell_type": "code",
      "metadata": {
        "id": "jNC3D1DGsGgK"
      },
      "source": [
        "test_results['linear_model'] = linear_model.evaluate(\n",
        "    test_features, test_labels, verbose=0)"
      ],
      "execution_count": null,
      "outputs": []
    },
    {
      "cell_type": "code",
      "metadata": {
        "id": "S3TLap5Ewnmf",
        "colab": {
          "base_uri": "https://localhost:8080/",
          "height": 282
        },
        "outputId": "c299c3f9-0481-4e2c-8ff7-d2181d2ad432"
      },
      "source": [
        "test_predictions = linear_model.predict(test_features).flatten()\n",
        "\n",
        "a = plt.axes(aspect='equal')\n",
        "plt.scatter(test_labels, test_predictions)\n",
        "plt.xlabel('True Values [DX]')\n",
        "plt.ylabel('Predictions [DX]')\n",
        "lims = [60, 90]\n",
        "plt.xlim(lims)\n",
        "plt.ylim(lims)\n",
        "_ = plt.plot(lims, lims)\n"
      ],
      "execution_count": null,
      "outputs": [
        {
          "output_type": "display_data",
          "data": {
            "image/png": "[encoded data removed]",
            "text/plain": [
              "<Figure size 432x288 with 1 Axes>"
            ]
          },
          "metadata": {
            "needs_background": "light"
          }
        }
      ]
    },
    {
      "cell_type": "markdown",
      "metadata": {
        "id": "ORo1vWhDw64X"
      },
      "source": [
        "Q: **(6 points)** Explore different features as train_features and label and see what relationship help you understand the ADNI data set better. Show that you explored at least 3 different combinations of features and label and write your reflection in 200 words or more"
      ]
    },
    {
      "cell_type": "markdown",
      "metadata": {
        "id": "SmjdzxKzEu1-"
      },
      "source": [
        "# Extra Credit: A DNN regression"
      ]
    },
    {
      "cell_type": "markdown",
      "metadata": {
        "id": "DT_aHPsrzO1t"
      },
      "source": [
        "## Instructions\n",
        "\n",
        " DNN regression is for extra credit. You don't have to do the below parts. \n",
        " \n",
        " Q: **(Extra Credit = 3 points)** If you like to explore, then please go ahead and compare with the linear regression and write a reflection in 200 words.\n",
        "\n",
        "The previous section implemented linear models for single and multiple inputs.\n",
        "\n",
        "This section implements single-input and multiple-input DNN models. The code is basically the same except the model is expanded to include some \"hidden\" non-linear layers. The word \"hidden\" here just means not directly connected to the inputs or outputs."
      ]
    },
    {
      "cell_type": "markdown",
      "metadata": {
        "id": "6SWtkIjhrZwa"
      },
      "source": [
        "These models will contain a few more layers than the linear model:\n",
        "\n",
        "* The normalization layer;\n",
        "* Two hidden, nonlinear, `Dense` layers using the `relu` nonlinearity; and\n",
        "* A linear single-output layer.\n",
        "\n",
        "Both will use the same training procedure so the `compile` method is included in the `build_and_compile_model` function below."
      ]
    },
    {
      "cell_type": "code",
      "metadata": {
        "id": "c26juK7ZG8j-"
      },
      "source": [
        "def build_and_compile_model(norm):\n",
        "  model = keras.Sequential([\n",
        "      norm,\n",
        "      layers.Dense(64, activation='relu'),\n",
        "      layers.Dense(64, activation='relu'),\n",
        "      layers.Dense(1)\n",
        "  ])\n",
        "\n",
        "  model.compile(loss='mean_absolute_error',\n",
        "                optimizer=tf.keras.optimizers.Adam(0.001))\n",
        "  return model"
      ],
      "execution_count": null,
      "outputs": []
    },
    {
      "cell_type": "markdown",
      "metadata": {
        "id": "ELz48lsgqC46"
      },
      "source": [
        "## A. Train the Model"
      ]
    },
    {
      "cell_type": "markdown",
      "metadata": {
        "id": "7T4RP1V36gVn"
      },
      "source": [
        "### A1. One Variable"
      ]
    },
    {
      "cell_type": "markdown",
      "metadata": {
        "id": "xvu9gtxTZR5V"
      },
      "source": [
        "Start with a DNN model for a single input, \"hippocampus\":"
      ]
    },
    {
      "cell_type": "code",
      "metadata": {
        "id": "cGbPb-PHGbhs"
      },
      "source": [
        "dnn_hippocampus_model = build_and_compile_model(hippocampus_normalizer)"
      ],
      "execution_count": null,
      "outputs": []
    },
    {
      "cell_type": "markdown",
      "metadata": {
        "id": "Sj49Og4YGULr"
      },
      "source": [
        "This model has quite a few more trainable parameters than the linear models."
      ]
    },
    {
      "cell_type": "code",
      "metadata": {
        "id": "ReAD0n6MsFK-",
        "colab": {
          "base_uri": "https://localhost:8080/"
        },
        "outputId": "9cc826fc-52d5-493b-9659-91bab8c246e5"
      },
      "source": [
        "dnn_hippocampus_model.summary()"
      ],
      "execution_count": null,
      "outputs": [
        {
          "output_type": "stream",
          "name": "stdout",
          "text": [
            "Model: \"sequential_91\"\n",
            "_________________________________________________________________\n",
            "Layer (type)                 Output Shape              Param #   \n",
            "=================================================================\n",
            "normalization_15 (Normalizat (None, 1)                 3         \n",
            "_________________________________________________________________\n",
            "dense_175 (Dense)            (None, 64)                128       \n",
            "_________________________________________________________________\n",
            "dense_176 (Dense)            (None, 64)                4160      \n",
            "_________________________________________________________________\n",
            "dense_177 (Dense)            (None, 1)                 65        \n",
            "=================================================================\n",
            "Total params: 4,356\n",
            "Trainable params: 4,353\n",
            "Non-trainable params: 3\n",
            "_________________________________________________________________\n"
          ]
        }
      ]
    },
    {
      "cell_type": "markdown",
      "metadata": {
        "id": "0-qWCsh6DlyH"
      },
      "source": [
        "Train the model:"
      ]
    },
    {
      "cell_type": "code",
      "metadata": {
        "id": "sD7qHCmNIOY0",
        "colab": {
          "base_uri": "https://localhost:8080/"
        },
        "outputId": "6b37cb33-cea4-4b77-9b81-23d1e6afb592"
      },
      "source": [
        "%%time\n",
        "history = dnn_hippocampus_model.fit(\n",
        "    train_features['Hippocampus'], train_labels,\n",
        "    validation_split=0.2,\n",
        "    verbose=0, epochs=100)"
      ],
      "execution_count": null,
      "outputs": [
        {
          "output_type": "stream",
          "name": "stdout",
          "text": [
            "CPU times: user 12.2 s, sys: 1.37 s, total: 13.6 s\n",
            "Wall time: 10.1 s\n"
          ]
        }
      ]
    },
    {
      "cell_type": "markdown",
      "metadata": {
        "id": "dArGGxHxcKjN"
      },
      "source": [
        "This model does slightly better than the linear-hippocampus model."
      ]
    },
    {
      "cell_type": "code",
      "metadata": {
        "id": "NcF6UWjdCU8T",
        "colab": {
          "base_uri": "https://localhost:8080/",
          "height": 282
        },
        "outputId": "92d690e0-ec07-4446-c9b8-23a214f4eaa8"
      },
      "source": [
        "plot_loss(history)"
      ],
      "execution_count": null,
      "outputs": [
        {
          "output_type": "display_data",
          "data": {
            "image/png": "[encoded data removed]",
            "text/plain": [
              "<Figure size 432x288 with 1 Axes>"
            ]
          },
          "metadata": {
            "needs_background": "light"
          }
        }
      ]
    },
    {
      "cell_type": "markdown",
      "metadata": {
        "id": "TG1snlpR2QCK"
      },
      "source": [
        "If you plot the predictions as a function of `hippocampus`, you'll see how this model takes advantage of the nonlinearity provided by the hidden layers:"
      ]
    },
    {
      "cell_type": "code",
      "metadata": {
        "id": "hPF53Rem14NS"
      },
      "source": [
        "x = tf.linspace(3000.0, 11000, 100)\n",
        "y = dnn_hippocampus_model.predict(x)"
      ],
      "execution_count": null,
      "outputs": []
    },
    {
      "cell_type": "code",
      "metadata": {
        "id": "rsf9rD8I17Wq",
        "colab": {
          "base_uri": "https://localhost:8080/",
          "height": 278
        },
        "outputId": "8bd75334-6d9d-4ae0-a7db-eb3bbcb4ce57"
      },
      "source": [
        "plot_hippocampus(x, y)"
      ],
      "execution_count": null,
      "outputs": [
        {
          "output_type": "display_data",
          "data": {
            "image/png": "[encoded data removed]",
            "text/plain": [
              "<Figure size 432x288 with 1 Axes>"
            ]
          },
          "metadata": {
            "needs_background": "light"
          }
        }
      ]
    },
    {
      "cell_type": "markdown",
      "metadata": {
        "id": "WxCJKIUpe4io"
      },
      "source": [
        "Collect the results on the test set, for later:"
      ]
    },
    {
      "cell_type": "code",
      "metadata": {
        "id": "bJjM0dU52XtN"
      },
      "source": [
        "test_results['dnn_hippocampus_model'] = dnn_hippocampus_model.evaluate(\n",
        "    test_features['Hippocampus'], test_labels,\n",
        "    verbose=0)"
      ],
      "execution_count": null,
      "outputs": []
    },
    {
      "cell_type": "markdown",
      "metadata": {
        "id": "S_2Btebp2e64"
      },
      "source": [
        "### A2. Full Model"
      ]
    },
    {
      "cell_type": "markdown",
      "metadata": {
        "id": "aKFtezDldLSf"
      },
      "source": [
        "If you repeat this process using all the inputs it slightly improves the performance on the validation dataset."
      ]
    },
    {
      "cell_type": "code",
      "metadata": {
        "id": "c0mhscXh2k36",
        "colab": {
          "base_uri": "https://localhost:8080/"
        },
        "outputId": "c7553d4f-aec8-4f61-8a2f-616cbfa47195"
      },
      "source": [
        "dnn_model = build_and_compile_model(normalizer)\n",
        "dnn_model.summary()"
      ],
      "execution_count": null,
      "outputs": [
        {
          "output_type": "stream",
          "name": "stdout",
          "text": [
            "Model: \"sequential_92\"\n",
            "_________________________________________________________________\n",
            "Layer (type)                 Output Shape              Param #   \n",
            "=================================================================\n",
            "normalization_51 (Normalizat (None, 2)                 5         \n",
            "_________________________________________________________________\n",
            "dense_178 (Dense)            (None, 64)                192       \n",
            "_________________________________________________________________\n",
            "dense_179 (Dense)            (None, 64)                4160      \n",
            "_________________________________________________________________\n",
            "dense_180 (Dense)            (None, 1)                 65        \n",
            "=================================================================\n",
            "Total params: 4,422\n",
            "Trainable params: 4,417\n",
            "Non-trainable params: 5\n",
            "_________________________________________________________________\n"
          ]
        }
      ]
    },
    {
      "cell_type": "code",
      "metadata": {
        "id": "CXDENACl2tuW",
        "colab": {
          "base_uri": "https://localhost:8080/"
        },
        "outputId": "b8c69722-a090-4791-8c93-b0d52b175c58"
      },
      "source": [
        "%%time\n",
        "history = dnn_model.fit(\n",
        "    train_features, train_labels,\n",
        "    validation_split=0.2,\n",
        "    verbose=0, epochs=100)"
      ],
      "execution_count": null,
      "outputs": [
        {
          "output_type": "stream",
          "name": "stdout",
          "text": [
            "CPU times: user 12.2 s, sys: 1.38 s, total: 13.6 s\n",
            "Wall time: 10.7 s\n"
          ]
        }
      ]
    },
    {
      "cell_type": "code",
      "metadata": {
        "id": "-9Dbj0fX23RQ",
        "colab": {
          "base_uri": "https://localhost:8080/",
          "height": 282
        },
        "outputId": "f509d5fd-7467-45f7-f527-c849836ec616"
      },
      "source": [
        "plot_loss(history)"
      ],
      "execution_count": null,
      "outputs": [
        {
          "output_type": "display_data",
          "data": {
            "image/png": "[encoded data removed]",
            "text/plain": [
              "<Figure size 432x288 with 1 Axes>"
            ]
          },
          "metadata": {
            "needs_background": "light"
          }
        }
      ]
    },
    {
      "cell_type": "markdown",
      "metadata": {
        "id": "hWoVYS34fJPZ"
      },
      "source": [
        "Collect the results on the test set:"
      ]
    },
    {
      "cell_type": "code",
      "metadata": {
        "id": "-bZIa96W3c7K"
      },
      "source": [
        "test_results['dnn_model'] = dnn_model.evaluate(test_features, test_labels, verbose=0)"
      ],
      "execution_count": null,
      "outputs": []
    },
    {
      "cell_type": "markdown",
      "metadata": {
        "id": "uiCucdPLfMkZ"
      },
      "source": [
        "## B. Performance"
      ]
    },
    {
      "cell_type": "markdown",
      "metadata": {
        "id": "rDf1xebEfWBw"
      },
      "source": [
        "Now that all the models are trained check the test-set performance and see how they did:"
      ]
    },
    {
      "cell_type": "code",
      "metadata": {
        "id": "e5_ooufM5iH2",
        "colab": {
          "base_uri": "https://localhost:8080/",
          "height": 174
        },
        "outputId": "47865eaf-47cf-48cb-cf7a-19f604975c5c"
      },
      "source": [
        "pd.DataFrame(test_results, index=['Mean absolute error [AGE]']).T"
      ],
      "execution_count": null,
      "outputs": [
        {
          "output_type": "execute_result",
          "data": {
            "text/html": [
              "<div>\n",
              "<style scoped>\n",
              "    .dataframe tbody tr th:only-of-type {\n",
              "        vertical-align: middle;\n",
              "    }\n",
              "\n",
              "    .dataframe tbody tr th {\n",
              "        vertical-align: top;\n",
              "    }\n",
              "\n",
              "    .dataframe thead th {\n",
              "        text-align: right;\n",
              "    }\n",
              "</style>\n",
              "<table border=\"1\" class=\"dataframe\">\n",
              "  <thead>\n",
              "    <tr style=\"text-align: right;\">\n",
              "      <th></th>\n",
              "      <th>Mean absolute error [AGE]</th>\n",
              "    </tr>\n",
              "  </thead>\n",
              "  <tbody>\n",
              "    <tr>\n",
              "      <th>feature_model</th>\n",
              "      <td>0.533587</td>\n",
              "    </tr>\n",
              "    <tr>\n",
              "      <th>linear_model</th>\n",
              "      <td>0.540464</td>\n",
              "    </tr>\n",
              "    <tr>\n",
              "      <th>dnn_hippocampus_model</th>\n",
              "      <td>0.500016</td>\n",
              "    </tr>\n",
              "    <tr>\n",
              "      <th>dnn_model</th>\n",
              "      <td>0.523128</td>\n",
              "    </tr>\n",
              "  </tbody>\n",
              "</table>\n",
              "</div>"
            ],
            "text/plain": [
              "                       Mean absolute error [AGE]\n",
              "feature_model                           0.533587\n",
              "linear_model                            0.540464\n",
              "dnn_hippocampus_model                   0.500016\n",
              "dnn_model                               0.523128"
            ]
          },
          "metadata": {},
          "execution_count": 1607
        }
      ]
    },
    {
      "cell_type": "markdown",
      "metadata": {
        "id": "DABIVzsCf-QI"
      },
      "source": [
        "These results match the validation error seen during training."
      ]
    },
    {
      "cell_type": "markdown",
      "metadata": {
        "id": "ft603OzXuEZC"
      },
      "source": [
        "## C. Make Predictions\n",
        "\n",
        "Finally, predict have a look at the errors made by the model when making predictions on the test set:"
      ]
    },
    {
      "cell_type": "code",
      "metadata": {
        "id": "Xe7RXH3N3CWU",
        "colab": {
          "base_uri": "https://localhost:8080/",
          "height": 282
        },
        "outputId": "8127deb7-f1cb-4fa0-98aa-7923f4732818"
      },
      "source": [
        "test_predictions = dnn_model.predict(test_features).flatten()\n",
        "\n",
        "a = plt.axes(aspect='equal')\n",
        "plt.scatter(test_labels, test_predictions)\n",
        "plt.xlabel('True Values [AGE]')\n",
        "plt.ylabel('Predictions [AGE]')\n",
        "lims = [60, 90]\n",
        "plt.xlim(lims)\n",
        "plt.ylim(lims)\n",
        "_ = plt.plot(lims, lims)\n"
      ],
      "execution_count": null,
      "outputs": [
        {
          "output_type": "display_data",
          "data": {
            "image/png": "[encoded data removed]",
            "text/plain": [
              "<Figure size 432x288 with 1 Axes>"
            ]
          },
          "metadata": {
            "needs_background": "light"
          }
        }
      ]
    },
    {
      "cell_type": "markdown",
      "metadata": {
        "id": "19wyogbOSU5t"
      },
      "source": [
        "It looks like the model predicts reasonably well. \n",
        "\n",
        "Now take a look at the error distribution:"
      ]
    },
    {
      "cell_type": "code",
      "metadata": {
        "id": "f-OHX4DiXd8x",
        "colab": {
          "base_uri": "https://localhost:8080/",
          "height": 281
        },
        "outputId": "13cf1015-3dc0-4a38-a37e-37fc8d0c7b10"
      },
      "source": [
        "error = test_predictions - test_labels\n",
        "plt.hist(error, bins=25)\n",
        "plt.xlabel('Prediction Error [MPG]')\n",
        "_ = plt.ylabel('Count')"
      ],
      "execution_count": null,
      "outputs": [
        {
          "output_type": "display_data",
          "data": {
            "image/png": "[encoded data removed]",
            "text/plain": [
              "<Figure size 432x288 with 1 Axes>"
            ]
          },
          "metadata": {
            "needs_background": "light"
          }
        }
      ]
    },
    {
      "cell_type": "markdown",
      "metadata": {
        "id": "KSyaHUfDT-mZ"
      },
      "source": [
        "If you're happy with the model save it for later use:"
      ]
    },
    {
      "cell_type": "code",
      "metadata": {
        "id": "4-WwLlmfT-mb",
        "colab": {
          "base_uri": "https://localhost:8080/"
        },
        "outputId": "645ebb80-caaf-4d27-ea22-7ac60d9e66ba"
      },
      "source": [
        "dnn_model.save('dnn_model')"
      ],
      "execution_count": null,
      "outputs": [
        {
          "output_type": "stream",
          "name": "stdout",
          "text": [
            "INFO:tensorflow:Assets written to: dnn_model/assets\n"
          ]
        }
      ]
    },
    {
      "cell_type": "markdown",
      "metadata": {
        "id": "Benlnl8UT-me"
      },
      "source": [
        "If you reload the model, it gives identical output:"
      ]
    },
    {
      "cell_type": "code",
      "metadata": {
        "id": "dyyyj2zVT-mf"
      },
      "source": [
        "reloaded = tf.keras.models.load_model('dnn_model')\n",
        "\n",
        "test_results['reloaded'] = reloaded.evaluate(\n",
        "    test_features, test_labels, verbose=0)"
      ],
      "execution_count": null,
      "outputs": []
    },
    {
      "cell_type": "code",
      "metadata": {
        "id": "f_GchJ2tg-2o",
        "colab": {
          "base_uri": "https://localhost:8080/",
          "height": 206
        },
        "outputId": "09985746-d78e-495d-9f7a-48b67aa3e705"
      },
      "source": [
        "pd.DataFrame(test_results, index=['Mean absolute error [MPG]']).T"
      ],
      "execution_count": null,
      "outputs": [
        {
          "output_type": "execute_result",
          "data": {
            "text/html": [
              "<div>\n",
              "<style scoped>\n",
              "    .dataframe tbody tr th:only-of-type {\n",
              "        vertical-align: middle;\n",
              "    }\n",
              "\n",
              "    .dataframe tbody tr th {\n",
              "        vertical-align: top;\n",
              "    }\n",
              "\n",
              "    .dataframe thead th {\n",
              "        text-align: right;\n",
              "    }\n",
              "</style>\n",
              "<table border=\"1\" class=\"dataframe\">\n",
              "  <thead>\n",
              "    <tr style=\"text-align: right;\">\n",
              "      <th></th>\n",
              "      <th>Mean absolute error [MPG]</th>\n",
              "    </tr>\n",
              "  </thead>\n",
              "  <tbody>\n",
              "    <tr>\n",
              "      <th>feature_model</th>\n",
              "      <td>0.533587</td>\n",
              "    </tr>\n",
              "    <tr>\n",
              "      <th>linear_model</th>\n",
              "      <td>0.540464</td>\n",
              "    </tr>\n",
              "    <tr>\n",
              "      <th>dnn_hippocampus_model</th>\n",
              "      <td>0.500016</td>\n",
              "    </tr>\n",
              "    <tr>\n",
              "      <th>dnn_model</th>\n",
              "      <td>0.523128</td>\n",
              "    </tr>\n",
              "    <tr>\n",
              "      <th>reloaded</th>\n",
              "      <td>0.523128</td>\n",
              "    </tr>\n",
              "  </tbody>\n",
              "</table>\n",
              "</div>"
            ],
            "text/plain": [
              "                       Mean absolute error [MPG]\n",
              "feature_model                           0.533587\n",
              "linear_model                            0.540464\n",
              "dnn_hippocampus_model                   0.500016\n",
              "dnn_model                               0.523128\n",
              "reloaded                                0.523128"
            ]
          },
          "metadata": {},
          "execution_count": 1612
        }
      ]
    },
    {
      "cell_type": "markdown",
      "metadata": {
        "id": "vgGQuV-yqYZH"
      },
      "source": [
        "# Conclusion\n",
        "\n",
        "This notebook introduced a few techniques to handle a regression problem. Here are a few more tips that may help:\n",
        "\n",
        "* [Mean Squared Error (MSE)](https://www.tensorflow.org/api_docs/python/tf/losses/MeanSquaredError) and [Mean Absolute Error (MAE)](https://www.tensorflow.org/api_docs/python/tf/losses/MeanAbsoluteError) are common loss functions used for regression problems. Mean Absolute Error is less sensitive to outliers. Different loss functions are used for classification problems.\n",
        "* Similarly, evaluation metrics used for regression differ from classification.\n",
        "* When numeric input data features have values with different ranges, each feature should be scaled independently to the same range.\n",
        "* Overfitting is a common problem for DNN models, it wasn't a problem for this tutorial. See the [overfit and underfit](overfit_and_underfit.ipynb) tutorial for more help with this.\n"
      ]
    }
  ]
}